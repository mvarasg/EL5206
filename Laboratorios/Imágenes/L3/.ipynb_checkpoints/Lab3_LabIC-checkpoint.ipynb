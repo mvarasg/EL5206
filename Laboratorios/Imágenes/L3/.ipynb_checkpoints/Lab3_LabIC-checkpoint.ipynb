{
  "nbformat": 4,
  "nbformat_minor": 0,
  "metadata": {
    "colab": {
      "provenance": [],
      "collapsed_sections": []
    },
    "kernelspec": {
      "name": "python3",
      "display_name": "Python 3"
    },
    "language_info": {
      "name": "python"
    }
  },
  "cells": [
    {
      "cell_type": "markdown",
      "metadata": {
        "id": "rI4IGxotPPLN"
      },
      "source": [
        "**Laboratorio 3**\n",
        "\n",
        "Bastián Garcés\n",
        "\n",
        "Maria Jose Liberona"
      ]
    },
    {
      "cell_type": "code",
      "metadata": {
        "id": "C47MbaDCPM6D"
      },
      "source": [
        "#Librerias\n",
        "import numpy as np\n",
        "import matplotlib.pyplot as plt\n",
        "import cv2\n",
        "from google.colab.patches import cv2_imshow\n",
        "import pandas as pd\n",
        "import os\n",
        "import math\n"
      ],
      "execution_count": null,
      "outputs": []
    },
    {
      "cell_type": "code",
      "metadata": {
        "id": "5pHUg6CWVHp6"
      },
      "source": [
        "#Descarga archivo Lab_Mov_20210902T185505Z_001.zip desde Drive\n",
        "!gdown --id 1m3EtJ-xSXXOEl9i0sbjS-sMtcb8jnUDM\n",
        "\n",
        "#Descomprimimos el archivo zip\n",
        "!unzip Lab_Mov_20210902T185505Z_001.zip\n",
        "\n",
        "#Descomprime archivos rar\n",
        "!unrar x '/content/Lab-Mov/seq1.rar'\n",
        "!unrar x '/content/Lab-Mov/seq2.rar'\n",
        "!unrar x '/content/Lab-Mov/seq3.rar'\n",
        "!unrar x '/content/Lab-Mov/seq4.rar'\n",
        "!unrar x '/content/Lab-Mov/seq5.rar'\n",
        "!unrar x '/content/Lab-Mov/seq6.rar'\n",
        "!unrar x '/content/Lab-Mov/fondo.rar'\n",
        "\n"
      ],
      "execution_count": null,
      "outputs": []
    },
    {
      "cell_type": "code",
      "metadata": {
        "id": "hanbqmVAWIyD"
      },
      "source": [
        "#Todas las imágenes de deben trabajar \n",
        "\n",
        "#Renombre imágenes\n",
        "#Función que cambia a escala de grises\n",
        "\n",
        "seq1=os.listdir('/content/seq1')\n",
        "seq2=os.listdir('/content/seq2')\n",
        "seq3=os.listdir('/content/seq3')\n",
        "seq4=os.listdir('/content/seq4')\n",
        "seq5=os.listdir('/content/seq5')\n",
        "seq6=os.listdir('/content/seq6')\n",
        "fondo=os.listdir('/content/fondo')\n",
        "\n",
        "seq=[seq1, seq2, seq3, seq4, seq5, seq6, fondo]\n",
        "seq_n=['seq1', 'seq2', 'seq3', 'seq4', 'seq5', 'seq6', 'fondo']\n",
        "seq_g=[]\n",
        "for i in range(len(seq)):\n",
        "  s=[]\n",
        "  for j in range(len(seq[i])):\n",
        "    if i == 0 or i == 1 or i == 2 or i == 6:\n",
        "      if j <9:\n",
        "        path=r'/content/'+str(seq_n[i])+'/image-000'+str(j+1)+'.jpg'\n",
        "        foto = cv2.imread(path)\n",
        "        foto_g = cv2.cvtColor(foto, cv2.COLOR_BGR2GRAY)\n",
        "        s.append(foto_g)\n",
        "      elif j >=9 and j<99:\n",
        "        path=r'/content/'+str(seq_n[i])+'/image-00'+str(j+1)+'.jpg'\n",
        "        foto = cv2.imread(path)\n",
        "        foto_g = cv2.cvtColor(foto, cv2.COLOR_BGR2GRAY)\n",
        "        s.append(foto_g)\n",
        "      elif j>=99:\n",
        "        path=r'/content/'+str(seq_n[i])+'/image-0'+str(j+1)+'.jpg'\n",
        "        foto = cv2.imread(path)\n",
        "        foto_g = cv2.cvtColor(foto, cv2.COLOR_BGR2GRAY)\n",
        "        s.append(foto_g)\n",
        "    elif i == 3:\n",
        "        path=r'/content/'+str(seq_n[i])+'/O_MC_01-'+str(j+1)+'.bmp'\n",
        "        foto = cv2.imread(path)\n",
        "        foto_g = cv2.cvtColor(foto, cv2.COLOR_BGR2GRAY)\n",
        "        s.append(foto_g)\n",
        "    elif i == 4:\n",
        "        path=r'/content/'+str(seq_n[i])+'/I_MC_01-'+str(j+1)+'.bmp'\n",
        "        foto = cv2.imread(path)\n",
        "        foto_g = cv2.cvtColor(foto, cv2.COLOR_BGR2GRAY)\n",
        "        s.append(foto_g)\n",
        "    elif i == 5:\n",
        "        path=r'/content/'+str(seq_n[i])+'/O_SM_12-'+str(j+1)+'.bmp'\n",
        "        foto = cv2.imread(path)\n",
        "        foto_g = cv2.cvtColor(foto, cv2.COLOR_BGR2GRAY)\n",
        "        s.append(foto_g)\n",
        "  seq_g.append(s)\n",
        " "
      ],
      "execution_count": null,
      "outputs": []
    },
    {
      "cell_type": "markdown",
      "metadata": {
        "id": "8h-ZfBRlSpY8"
      },
      "source": [
        "## Actividad 1\n"
      ]
    },
    {
      "cell_type": "code",
      "metadata": {
        "id": "8Cc2lWXJtXiX"
      },
      "source": [
        "def detector(lista_seq, margen):\n",
        "  '''\n",
        "  Esta función detecta el movimiento a partir del método \n",
        "  de cuadros\n",
        "\n",
        "  lista_seq: secuencia en escala de grises\n",
        "  margen: umbral para binarizar las imágenes\n",
        "  dif: secuencia de diferencia de las imágenes consecutivas\n",
        "  mov: imágenes binarias que muestran la detección del movimiento \n",
        "  '''\n",
        "  dif=[]\n",
        "  mov=[]\n",
        "  for i in range(len(lista_seq)-1):\n",
        "    resta_abs=cv2.absdiff(lista_seq[i],lista_seq[i+1])\n",
        "    dif.append(resta_abs)\n",
        "    binaria = cv2.threshold(resta_abs, margen, 255, cv2.THRESH_BINARY)\n",
        "    mov.append(binaria[1])\n",
        "  return dif, mov\n"
      ],
      "execution_count": null,
      "outputs": []
    },
    {
      "cell_type": "code",
      "metadata": {
        "id": "vgllQScf3WQv",
        "colab": {
          "base_uri": "https://localhost:8080/",
          "height": 1000
        },
        "outputId": "75362624-6017-455e-bd68-77a070620144"
      },
      "source": [
        "#Detector de movimiento \n",
        "#Secuencia 1\n",
        "dif_seq1,mov_seq1 = detector(seq_g[0], 25)\n",
        "\n",
        "#Ejemplos\n",
        "print('Ejemplos de detección para la secuencia 1')\n",
        "print('1')\n",
        "cv2_imshow(mov_seq1[13]) #Reconoce una paloma\n",
        "cv2.imwrite(\"/content/det_seq1_13.png\",mov_seq1[13])\n",
        "print('2')\n",
        "cv2_imshow(mov_seq1[12])\n",
        "cv2.imwrite(\"/content/det_seq1_12.png\",mov_seq1[12])\n",
        "\n"
      ],
      "execution_count": null,
      "outputs": [
        {
          "output_type": "stream",
          "name": "stdout",
          "text": [
            "Ejemplos de detección para la secuencia 1\n",
            "1\n"
          ]
        },
        {
          "output_type": "display_data",
          "data": {
            "image/png": "[encoded data removed]",
            "text/plain": [
              "<PIL.Image.Image image mode=L size=1280x800 at 0x7F52E9C42990>"
            ]
          },
          "metadata": {}
        },
        {
          "output_type": "stream",
          "name": "stdout",
          "text": [
            "2\n"
          ]
        },
        {
          "output_type": "display_data",
          "data": {
            "image/png": "[encoded data removed]",
            "text/plain": [
              "<PIL.Image.Image image mode=L size=1280x800 at 0x7F52E9510DD0>"
            ]
          },
          "metadata": {}
        },
        {
          "output_type": "execute_result",
          "data": {
            "text/plain": [
              "True"
            ]
          },
          "metadata": {},
          "execution_count": 5
        }
      ]
    },
    {
      "cell_type": "code",
      "metadata": {
        "id": "Bcvs0Zuo4SHf",
        "colab": {
          "base_uri": "https://localhost:8080/",
          "height": 1000
        },
        "outputId": "1a8f8016-de58-4ab5-a908-533825a8bc63"
      },
      "source": [
        "#Detector de movimiento \n",
        "#Secuencia 2\n",
        "dif_seq2,mov_seq2 = detector(seq_g[1], 25)\n",
        "\n",
        "#Ejemplos\n",
        "print('Ejemplos de detección para la secuencia 2')\n",
        "print('1')\n",
        "cv2_imshow(mov_seq2[78]) #Reconoce una paloma\n",
        "cv2.imwrite(\"/content/det_seq2_78.png\",mov_seq2[78])\n",
        "print('2')\n",
        "cv2_imshow(mov_seq2[79])\n",
        "cv2.imwrite(\"/content/det_seq2_79.png\",mov_seq2[79])\n"
      ],
      "execution_count": null,
      "outputs": [
        {
          "output_type": "stream",
          "name": "stdout",
          "text": [
            "Ejemplos de detección para la secuencia 2\n",
            "1\n"
          ]
        },
        {
          "output_type": "display_data",
          "data": {
            "image/png": "[encoded data removed]",
            "text/plain": [
              "<PIL.Image.Image image mode=L size=1280x800 at 0x7F52E9C6A390>"
            ]
          },
          "metadata": {}
        },
        {
          "output_type": "stream",
          "name": "stdout",
          "text": [
            "2\n"
          ]
        },
        {
          "output_type": "display_data",
          "data": {
            "image/png": "[encoded data removed]",
            "text/plain": [
              "<PIL.Image.Image image mode=L size=1280x800 at 0x7F52E9C6A390>"
            ]
          },
          "metadata": {}
        },
        {
          "output_type": "execute_result",
          "data": {
            "text/plain": [
              "True"
            ]
          },
          "metadata": {},
          "execution_count": 6
        }
      ]
    },
    {
      "cell_type": "code",
      "metadata": {
        "id": "cPsTALqZ7G56",
        "colab": {
          "base_uri": "https://localhost:8080/",
          "height": 1000
        },
        "outputId": "bbff2ef0-9f00-429a-e03a-6d77a00666ec"
      },
      "source": [
        "#Detector de movimiento \n",
        "#Secuencia 3\n",
        "dif_seq3,mov_seq3 = detector(seq_g[2], 25)\n",
        "\n",
        "#Ejemplos\n",
        "print('Ejemplos de detección para la secuencia 3')\n",
        "print('1')\n",
        "cv2_imshow(mov_seq3[91]) #Reconoce una paloma\n",
        "cv2.imwrite(\"/content/det_seq3_91.png\",mov_seq3[91])\n",
        "print('2')\n",
        "cv2_imshow(mov_seq3[92])\n",
        "cv2.imwrite(\"/content/det_seq3_92.png\",mov_seq3[92])"
      ],
      "execution_count": null,
      "outputs": [
        {
          "output_type": "stream",
          "name": "stdout",
          "text": [
            "Ejemplos de detección para la secuencia 3\n",
            "1\n"
          ]
        },
        {
          "output_type": "display_data",
          "data": {
            "image/png": "[encoded data removed]",
            "text/plain": [
              "<PIL.Image.Image image mode=L size=1280x800 at 0x7F52E9C6AD90>"
            ]
          },
          "metadata": {}
        },
        {
          "output_type": "stream",
          "name": "stdout",
          "text": [
            "2\n"
          ]
        },
        {
          "output_type": "display_data",
          "data": {
            "image/png": "[encoded data removed]",
            "text/plain": [
              "<PIL.Image.Image image mode=L size=1280x800 at 0x7F52E9516F90>"
            ]
          },
          "metadata": {}
        },
        {
          "output_type": "execute_result",
          "data": {
            "text/plain": [
              "True"
            ]
          },
          "metadata": {},
          "execution_count": 7
        }
      ]
    },
    {
      "cell_type": "markdown",
      "metadata": {
        "id": "F1b9rcsThb-I"
      },
      "source": [
        "## Actividad 2 "
      ]
    },
    {
      "cell_type": "code",
      "metadata": {
        "id": "4v2onSnThjeD",
        "colab": {
          "base_uri": "https://localhost:8080/"
        },
        "outputId": "5c9171a5-0d65-420a-baef-b7f74533b729"
      },
      "source": [
        "#Promedio matrices fondo \n",
        "f_mean=np.zeros((seq_g[6][0].shape[0],seq_g[6][0].shape[1]))\n",
        "for k in range(len(seq_g[6])):\n",
        "  f_mean=f_mean+seq_g[6][k]\n",
        "f_mean=f_mean/len(seq_g[6])\n",
        "f_mean"
      ],
      "execution_count": null,
      "outputs": [
        {
          "output_type": "execute_result",
          "data": {
            "text/plain": [
              "array([[ 85.96      ,  85.86857143,  85.78857143, ..., 145.61142857,\n",
              "        144.80571429, 144.39428571],\n",
              "       [ 85.86857143,  85.81714286,  85.74285714, ..., 145.36      ,\n",
              "        144.38285714, 144.13714286],\n",
              "       [ 85.01714286,  84.97142857,  84.89142857, ..., 144.92      ,\n",
              "        143.95428571, 143.55428571],\n",
              "       ...,\n",
              "       [113.60571429, 113.41714286, 113.21714286, ..., 141.65714286,\n",
              "        141.25142857, 140.35428571],\n",
              "       [112.44      , 112.45142857, 112.21714286, ..., 139.2       ,\n",
              "        138.04571429, 136.78285714],\n",
              "       [111.52      , 111.37142857, 111.30285714, ..., 137.53714286,\n",
              "        136.17714286, 134.76571429]])"
            ]
          },
          "metadata": {},
          "execution_count": 8
        }
      ]
    },
    {
      "cell_type": "code",
      "metadata": {
        "id": "5jAEgV3bs_YV"
      },
      "source": [
        "#Desviación estándar fondo\n",
        "f_std=np.zeros((seq_g[6][0].shape[0],seq_g[6][0].shape[1]))\n",
        "for i in range(seq_g[6][0].shape[0]):\n",
        "  for j in range(seq_g[6][0].shape[1]):\n",
        "    sum=[]\n",
        "    for k in range(len(seq_g[6])):\n",
        "      sum.append(seq_g[6][k][i][j])\n",
        "    f_std[i][j]=np.std(np.array(sum))\n"
      ],
      "execution_count": null,
      "outputs": []
    },
    {
      "cell_type": "code",
      "metadata": {
        "id": "G8H4afJPmtk7"
      },
      "source": [
        "def detector_2(lista_seq, alpha, mean, std):\n",
        "  '''\n",
        "  Esta función se encarga de detectar el movimiento a partir de un rango \n",
        "  establecido por el promedio, desviación estándar y umbral de las imágenes \"fondo\"\n",
        "  entregando la lista de imágenes binarias.\n",
        "  lista_seq: secuencia en escala de grises\n",
        "  alpha: umbral\n",
        "  mean: matriz promedio de las imágenes fondo\n",
        "  std: desviación estándar de las imágenes fondo\n",
        "  mov: secuencia de imágenes binarias\n",
        "  '''\n",
        "  umbral_inf=mean-alpha*std\n",
        "  umbral_sup=mean+alpha*std\n",
        "  mov=[]\n",
        "  for i in range(len(lista_seq)):\n",
        "    x=lista_seq[i].copy()\n",
        "    y=pd.DataFrame(x)\n",
        "    y[(y<umbral_inf) | (y>umbral_sup)]=255\n",
        "    y[(y<=umbral_sup) & (y>=umbral_inf)]=0\n",
        "    y=y.to_numpy()\n",
        "    mov.append(y)\n",
        "  return mov"
      ],
      "execution_count": null,
      "outputs": []
    },
    {
      "cell_type": "code",
      "metadata": {
        "id": "ZH1Jy64AmIub"
      },
      "source": [
        "#Vemos la detección de movimiento de cada secuencia al usar el detector de movimiento \n",
        "#que usa un modelo de fondo\n",
        "mov2_seq1 = detector_2(seq_g[0], 40, f_mean, f_std) \n",
        "mov2_seq2 = detector_2(seq_g[1], 40, f_mean, f_std)\n",
        "mov2_seq3 = detector_2(seq_g[2], 40, f_mean, f_std)\n",
        "\n",
        "#Estos 3 son los que se usaran para crear el rectangulo en que se encerrara el \n",
        "#movimiento, se hace para evitar que las 3 secuencias anteriores\n",
        "#se sobreescriban \n",
        "MOV2_SEQ1_2 = detector_2(seq_g[0], 40, f_mean, f_std) \n",
        "MOV2_SEQ2_2 = detector_2(seq_g[1], 40, f_mean, f_std)\n",
        "MOV2_SEQ3_2 = detector_2(seq_g[2], 40, f_mean, f_std)"
      ],
      "execution_count": null,
      "outputs": []
    },
    {
      "cell_type": "code",
      "metadata": {
        "colab": {
          "base_uri": "https://localhost:8080/",
          "height": 1000
        },
        "id": "8kWXn6Aa8x3p",
        "outputId": "a8f22b86-0ec7-4b20-e9d7-af7cd5587640"
      },
      "source": [
        "#Ejemplos\n",
        "print('Ejemplos de detección para la secuencia 1')\n",
        "print('1')\n",
        "cv2_imshow(mov2_seq1[13]) #Reconoce una paloma\n",
        "cv2.imwrite(\"/content/det2_seq1_13.png\",mov2_seq1[13])\n",
        "print('2')\n",
        "cv2_imshow(mov2_seq1[12])\n",
        "cv2.imwrite(\"/content/det2_seq1_12.png\",mov2_seq1[12])"
      ],
      "execution_count": null,
      "outputs": [
        {
          "output_type": "stream",
          "name": "stdout",
          "text": [
            "Ejemplos de detección para la secuencia 1\n",
            "1\n"
          ]
        },
        {
          "output_type": "display_data",
          "data": {
            "image/png": "[encoded data removed]",
            "text/plain": [
              "<PIL.Image.Image image mode=L size=1280x800 at 0x7F52E9543B10>"
            ]
          },
          "metadata": {}
        },
        {
          "output_type": "stream",
          "name": "stdout",
          "text": [
            "2\n"
          ]
        },
        {
          "output_type": "display_data",
          "data": {
            "image/png": "[encoded data removed]",
            "text/plain": [
              "<PIL.Image.Image image mode=L size=1280x800 at 0x7F52E94CC410>"
            ]
          },
          "metadata": {}
        },
        {
          "output_type": "execute_result",
          "data": {
            "text/plain": [
              "True"
            ]
          },
          "metadata": {},
          "execution_count": 12
        }
      ]
    },
    {
      "cell_type": "code",
      "metadata": {
        "colab": {
          "base_uri": "https://localhost:8080/",
          "height": 1000
        },
        "id": "teY2VUMX8wXy",
        "outputId": "5771cc3e-3a71-448a-f409-29a8dd3075b6"
      },
      "source": [
        "#Ejemplos\n",
        "print('Ejemplos de detección para la secuencia 2')\n",
        "print('1')\n",
        "cv2_imshow(mov2_seq2[78]) #Reconoce una paloma\n",
        "cv2.imwrite(\"/content/det2_seq2_78.png\",mov2_seq2[78])\n",
        "print('2')\n",
        "cv2_imshow(mov2_seq2[79])\n",
        "cv2.imwrite(\"/content/det2_seq2_79.png\",mov2_seq2[79])\n"
      ],
      "execution_count": null,
      "outputs": [
        {
          "output_type": "stream",
          "name": "stdout",
          "text": [
            "Ejemplos de detección para la secuencia 2\n",
            "1\n"
          ]
        },
        {
          "output_type": "display_data",
          "data": {
            "image/png": "[encoded data removed]",
            "text/plain": [
              "<PIL.Image.Image image mode=L size=1280x800 at 0x7F52E89F3150>"
            ]
          },
          "metadata": {}
        },
        {
          "output_type": "stream",
          "name": "stdout",
          "text": [
            "2\n"
          ]
        },
        {
          "output_type": "display_data",
          "data": {
            "image/png": "[encoded data removed]",
            "text/plain": [
              "<PIL.Image.Image image mode=L size=1280x800 at 0x7F52E9C6A450>"
            ]
          },
          "metadata": {}
        },
        {
          "output_type": "execute_result",
          "data": {
            "text/plain": [
              "True"
            ]
          },
          "metadata": {},
          "execution_count": 13
        }
      ]
    },
    {
      "cell_type": "code",
      "metadata": {
        "colab": {
          "base_uri": "https://localhost:8080/",
          "height": 1000
        },
        "id": "b8j5DB4p89qW",
        "outputId": "bae6a3d2-5088-45ce-9c7d-1f093124b4c9"
      },
      "source": [
        "#Ejemplos\n",
        "print('Ejemplos de detección para la secuencia 3')\n",
        "print('1')\n",
        "cv2_imshow(mov2_seq3[91]) #Reconoce una paloma\n",
        "cv2.imwrite(\"/content/det2_seq3_91.png\",mov2_seq3[91])\n",
        "print('2')\n",
        "cv2_imshow(mov_seq3[92])\n",
        "cv2.imwrite(\"/content/det2_seq3_92.png\",mov2_seq3[92])"
      ],
      "execution_count": null,
      "outputs": [
        {
          "output_type": "stream",
          "name": "stdout",
          "text": [
            "Ejemplos de detección para la secuencia 3\n",
            "1\n"
          ]
        },
        {
          "output_type": "display_data",
          "data": {
            "image/png": "[encoded data removed]",
            "text/plain": [
              "<PIL.Image.Image image mode=L size=1280x800 at 0x7F52E89F36D0>"
            ]
          },
          "metadata": {}
        },
        {
          "output_type": "stream",
          "name": "stdout",
          "text": [
            "2\n"
          ]
        },
        {
          "output_type": "display_data",
          "data": {
            "image/png": "[encoded data removed]",
            "text/plain": [
              "<PIL.Image.Image image mode=L size=1280x800 at 0x7F52E950AA50>"
            ]
          },
          "metadata": {}
        },
        {
          "output_type": "execute_result",
          "data": {
            "text/plain": [
              "True"
            ]
          },
          "metadata": {},
          "execution_count": 14
        }
      ]
    },
    {
      "cell_type": "markdown",
      "metadata": {
        "id": "r6TpRflJmE4L"
      },
      "source": [
        "## Actividad 3\n"
      ]
    },
    {
      "cell_type": "code",
      "metadata": {
        "id": "lV3dILx3pE0K"
      },
      "source": [
        "def histogramas(seq):\n",
        "  ''' \n",
        "  Esta función se encarga de generar los histogramas proyectados como la \n",
        "  suma por fila y columna de las fotos de la secuencia\n",
        "  seq: secuencia de fotos binarias\n",
        "  histograma_fila: lista de vectores que almacenan los histogramas asociados a las filas\n",
        "  histograma_columna: lista de vectores que almacenan los histogramas asociadas a las columnas\n",
        "  '''\n",
        "  histograma_fila = []\n",
        "  histograma_columna = []\n",
        "  for k in range(len(seq)): #Sobre cada foto\n",
        "    sum_fila = np.sum(seq[k], axis=1) #suma por filas\n",
        "    sum_columna = np.sum(seq[k], axis=0) #suma por columnas\n",
        "    histograma_fila.append(sum_fila)\n",
        "    histograma_columna.append(sum_columna)\n",
        "\n",
        "  return histograma_fila, histograma_columna    "
      ],
      "execution_count": null,
      "outputs": []
    },
    {
      "cell_type": "code",
      "metadata": {
        "id": "RelWoznGLdNh"
      },
      "source": [
        "#histogramas de las 3 secuencias\n",
        "fila_seq1, col_seq1 = histogramas(mov2_seq1)\n",
        "fila_seq2, col_seq2 = histogramas(mov2_seq2)\n",
        "fila_seq3, col_seq3 = histogramas(mov2_seq3)"
      ],
      "execution_count": null,
      "outputs": []
    },
    {
      "cell_type": "code",
      "metadata": {
        "colab": {
          "base_uri": "https://localhost:8080/",
          "height": 683
        },
        "id": "q4gvLxpvLpb2",
        "outputId": "2638cbf7-b7ca-4512-fd5b-fd9a3e07d54c"
      },
      "source": [
        "#Gráfico histogramas\n",
        "bar_filas=np.array(range(1,len(fila_seq1[433])+1)) #Bins de las filas\n",
        "bar_col=np.array(range(1, len(col_seq1[433])+1))\n",
        "\n",
        "#Gráfico de la primera región\n",
        "\n",
        "plt.figure(figsize=(20,5))\n",
        "plt.bar(bar_filas,fila_seq1[443])\n",
        "plt.ylabel('Suma Filas')\n",
        "plt.xlabel('Bins')\n",
        "plt.title('Histograma filas')\n",
        "plt.show()\n",
        "\n",
        "\n",
        "plt.figure(figsize=(20,5))\n",
        "plt.bar(bar_col,col_seq1[443])\n",
        "plt.ylabel('Suma columnas')\n",
        "plt.xlabel('Bins')\n",
        "plt.title('Histograma columnas')\n",
        "plt.show()\n"
      ],
      "execution_count": null,
      "outputs": [
        {
          "output_type": "display_data",
          "data": {
            "image/png": "[encoded data removed]",
            "text/plain": [
              "<Figure size 1440x360 with 1 Axes>"
            ]
          },
          "metadata": {
            "needs_background": "light"
          }
        },
        {
          "output_type": "display_data",
          "data": {
            "image/png": "[encoded data removed]",
            "text/plain": [
              "<Figure size 1440x360 with 1 Axes>"
            ]
          },
          "metadata": {
            "needs_background": "light"
          }
        }
      ]
    },
    {
      "cell_type": "code",
      "metadata": {
        "id": "SZVcYw0cHPb3"
      },
      "source": [
        "def minmax(seq, minmax,umbral):\n",
        "  '''\n",
        "  Con esta funcion extraemos la posicion del primer bin donde la suma de pixeles por\n",
        "  fila o columna es mayor a 0 (primero de izquierda a derecha) o extremos la posicion \n",
        "  del ultimo bin donde la suma de pixeles por fila o columna sea mayor a 0 (ultimo de \n",
        "  izquierda a derecha)\n",
        "  seq: vector asociado al histograma de las filas o columnas \n",
        "  minmax: string que indica que valor se quiere retornar (min o max)\n",
        "  umbral: límite usado para no considerar el ruido\n",
        "  min_seq: lista de mínimos\n",
        "  max_seq: lista de máximos\n",
        "  '''\n",
        "  #Con esto obtengo el primero de izquierda a derecha\n",
        "  if minmax == 'min':\n",
        "    min_seq = []\n",
        "    for k in range(len(seq)):\n",
        "      i = 0\n",
        "      while True:\n",
        "        if i==len(seq[0]): #Si recorrio todo y no encontro ningun valor superior a 0\n",
        "          min_seq.append(0)\n",
        "          break\n",
        "        if seq[k][i]<=umbral:\n",
        "          i=i+1\n",
        "        else:\n",
        "          min_seq.append(i)\n",
        "          i=0\n",
        "          break\n",
        "    return min_seq\n",
        "    \n",
        "  #Con esto obtengo el ultimo de izquierda a derecha\n",
        "  if minmax == 'max':\n",
        "    max_seq = []\n",
        "    for k in range(len(seq)):\n",
        "      i=len(seq[0])-1\n",
        "      while True:\n",
        "        if i==-1: #Si recorrio todo y no encontro ningun valor superior a 0\n",
        "          max_seq.append(0)\n",
        "          break\n",
        "        if seq[k][i]<=umbral:\n",
        "          i=i-1\n",
        "        else:\n",
        "          max_seq.append(i)\n",
        "          i=0\n",
        "          break\n",
        "    return max_seq"
      ],
      "execution_count": null,
      "outputs": []
    },
    {
      "cell_type": "code",
      "metadata": {
        "id": "UaMPgRT5GUlU"
      },
      "source": [
        "#Minimos y maximos por fila y columna de cada histograma para cada secuencia\n",
        "min_filas_seq1 = minmax(fila_seq1, 'min',1300)\n",
        "max_filas_seq1 = minmax(fila_seq1, 'max',1300)\n",
        "min_columnas_seq1 = minmax(col_seq1, 'min',1300)\n",
        "max_columnas_seq1 = minmax(col_seq1, 'max',1300)\n",
        "\n",
        "min_filas_seq2 = minmax(fila_seq2, 'min',1300)\n",
        "max_filas_seq2 = minmax(fila_seq2, 'max',1300)\n",
        "min_columnas_seq2 = minmax(col_seq2, 'min',1300)\n",
        "max_columnas_seq2 = minmax(col_seq2, 'max',1300)\n",
        "\n",
        "min_filas_seq3 = minmax(fila_seq3, 'min',1300)\n",
        "max_filas_seq3 = minmax(fila_seq3, 'max',1300)\n",
        "min_columnas_seq3 = minmax(col_seq3, 'min',1300)\n",
        "max_columnas_seq3 = minmax(col_seq3, 'max',1300)"
      ],
      "execution_count": null,
      "outputs": []
    },
    {
      "cell_type": "code",
      "metadata": {
        "id": "hC2R7-0wdHbC"
      },
      "source": [
        "def blob(seq, min_fila, max_fila, min_col, max_col):\n",
        "  '''\n",
        "  Esta funcion es la que se encarga de dibujar un rectangulo en los pixeles donde\n",
        "  se ha detectado movimiento.\n",
        "  seq: secuencia de imágenes binarias\n",
        "  min_fila: lista de mínimos de las filas obtenidos a partir del histograma\n",
        "  min_col: lista de mínimos de las columnas obtenidos a partir del histograma\n",
        "  max_fila: lista de máximos de las filas obtenidos a partir del histograma\n",
        "  max_col: lista de máximos de las columnas obtenidos a partir del histograma\n",
        "  '''\n",
        "  blob_2=[]\n",
        "  for i in range(len(seq)): \n",
        "    if max_fila[i]!=0 and max_col[i]!=0:\n",
        "      for j in range(min_fila[i],max_fila[i]): #Pintamos las aristas verticales\n",
        "        seq[i][j][min_col[i]]=200 \n",
        "        seq[i][j][max_col[i]]=200\n",
        "      for k in range(min_col[i],max_col[i]): #Pintamos las aristas horizontales\n",
        "        seq[i][min_fila[i]][k]=200\n",
        "        seq[i][max_fila[i]][k]=200\n",
        "    blob_2.append(seq[i])\n",
        "\n",
        "  return blob_2"
      ],
      "execution_count": null,
      "outputs": []
    },
    {
      "cell_type": "code",
      "metadata": {
        "id": "sIXiPN73Q9eL"
      },
      "source": [
        "Rectan1 = blob(MOV2_SEQ1_2, min_filas_seq1, max_filas_seq1, min_columnas_seq1, max_columnas_seq1)\n",
        "Rectan2 = blob(MOV2_SEQ2_2, min_filas_seq2, max_filas_seq2, min_columnas_seq2, max_columnas_seq2)\n",
        "Rectan3 = blob(MOV2_SEQ3_2, min_filas_seq3, max_filas_seq3, min_columnas_seq3, max_columnas_seq3)"
      ],
      "execution_count": null,
      "outputs": []
    },
    {
      "cell_type": "code",
      "metadata": {
        "id": "WGw_9hXOz_Jy",
        "colab": {
          "base_uri": "https://localhost:8080/",
          "height": 1000
        },
        "outputId": "9a9066c7-52d2-4f60-f832-e579ac3c2eb3"
      },
      "source": [
        "print('1')\n",
        "cv2_imshow(Rectan1[12])\n",
        "cv2.imwrite(\"/content/Rectan1_12.png\", Rectan1[12])\n",
        "print('2')\n",
        "cv2_imshow(Rectan1[13])\n",
        "cv2.imwrite(\"/content/Rectan1_13.png\", Rectan1[13])\n",
        "print('3')\n",
        "cv2_imshow(Rectan1[14])\n",
        "print('4')\n",
        "cv2_imshow(Rectan1[15])\n",
        "print('5')\n",
        "cv2_imshow(Rectan1[16])\n",
        "print('6')\n",
        "cv2_imshow(Rectan1[17])\n",
        "print('7')\n",
        "cv2_imshow(Rectan1[18])\n",
        "print('8')\n",
        "cv2_imshow(Rectan1[19])"
      ],
      "execution_count": null,
      "outputs": [
        {
          "output_type": "stream",
          "name": "stdout",
          "text": [
            "1\n"
          ]
        },
        {
          "output_type": "display_data",
          "data": {
            "image/png": "[encoded data removed]",
            "text/plain": [
              "<PIL.Image.Image image mode=L size=1280x800 at 0x7F52E857E6D0>"
            ]
          },
          "metadata": {}
        },
        {
          "output_type": "stream",
          "name": "stdout",
          "text": [
            "2\n"
          ]
        },
        {
          "output_type": "display_data",
          "data": {
            "image/png": "[encoded data removed]",
            "text/plain": [
              "<PIL.Image.Image image mode=L size=1280x800 at 0x7F52E86CEFD0>"
            ]
          },
          "metadata": {}
        },
        {
          "output_type": "stream",
          "name": "stdout",
          "text": [
            "3\n"
          ]
        },
        {
          "output_type": "display_data",
          "data": {
            "image/png": "[encoded data removed]",
            "text/plain": [
              "<PIL.Image.Image image mode=L size=1280x800 at 0x7F52E950A250>"
            ]
          },
          "metadata": {}
        },
        {
          "output_type": "stream",
          "name": "stdout",
          "text": [
            "4\n"
          ]
        },
        {
          "output_type": "display_data",
          "data": {
            "image/png": "[encoded data removed]",
            "text/plain": [
              "<PIL.Image.Image image mode=L size=1280x800 at 0x7F52E86CECD0>"
            ]
          },
          "metadata": {}
        },
        {
          "output_type": "stream",
          "name": "stdout",
          "text": [
            "5\n"
          ]
        },
        {
          "output_type": "display_data",
          "data": {
            "image/png": "[encoded data removed]",
            "text/plain": [
              "<PIL.Image.Image image mode=L size=1280x800 at 0x7F52E857EA50>"
            ]
          },
          "metadata": {}
        },
        {
          "output_type": "stream",
          "name": "stdout",
          "text": [
            "6\n"
          ]
        },
        {
          "output_type": "display_data",
          "data": {
            "image/png": "[encoded data removed]",
            "text/plain": [
              "<PIL.Image.Image image mode=L size=1280x800 at 0x7F52E857E2D0>"
            ]
          },
          "metadata": {}
        },
        {
          "output_type": "stream",
          "name": "stdout",
          "text": [
            "7\n"
          ]
        },
        {
          "output_type": "display_data",
          "data": {
            "image/png": "[encoded data removed]",
            "text/plain": [
              "<PIL.Image.Image image mode=L size=1280x800 at 0x7F52E857EA50>"
            ]
          },
          "metadata": {}
        },
        {
          "output_type": "stream",
          "name": "stdout",
          "text": [
            "8\n"
          ]
        },
        {
          "output_type": "display_data",
          "data": {
            "image/png": "[encoded data removed]",
            "text/plain": [
              "<PIL.Image.Image image mode=L size=1280x800 at 0x7F52E857E990>"
            ]
          },
          "metadata": {}
        }
      ]
    },
    {
      "cell_type": "code",
      "metadata": {
        "colab": {
          "base_uri": "https://localhost:8080/",
          "height": 1000
        },
        "id": "kutTo_U2ijUX",
        "outputId": "6d3adac1-6651-4db7-e997-e30c43ce1a34"
      },
      "source": [
        "print('Secuencia 2')\n",
        "print('1')\n",
        "cv2_imshow(Rectan2[78])\n",
        "cv2.imwrite(\"/content/Rectan2_78.png\", Rectan2[78])\n",
        "print('2')\n",
        "cv2_imshow(Rectan2[79])\n",
        "cv2.imwrite(\"/content/Rectan2_79.png\", Rectan2[79])\n",
        "print('3')\n",
        "cv2_imshow(Rectan2[80])\n",
        "print('4')\n",
        "cv2_imshow(Rectan2[81])\n",
        "print('5')\n",
        "cv2_imshow(Rectan2[82])\n",
        "print('6')\n",
        "cv2_imshow(Rectan2[83])\n",
        "print('7')\n",
        "cv2_imshow(Rectan2[84])\n",
        "print('8')\n",
        "cv2_imshow(Rectan2[85])"
      ],
      "execution_count": null,
      "outputs": [
        {
          "output_type": "stream",
          "name": "stdout",
          "text": [
            "Secuencia 2\n",
            "1\n"
          ]
        },
        {
          "output_type": "display_data",
          "data": {
            "image/png": "[encoded data removed]",
            "text/plain": [
              "<PIL.Image.Image image mode=L size=1280x800 at 0x7F52E86AA710>"
            ]
          },
          "metadata": {}
        },
        {
          "output_type": "stream",
          "name": "stdout",
          "text": [
            "2\n"
          ]
        },
        {
          "output_type": "display_data",
          "data": {
            "image/png": "[encoded data removed]",
            "text/plain": [
              "<PIL.Image.Image image mode=L size=1280x800 at 0x7F52F8F54290>"
            ]
          },
          "metadata": {}
        },
        {
          "output_type": "stream",
          "name": "stdout",
          "text": [
            "3\n"
          ]
        },
        {
          "output_type": "display_data",
          "data": {
            "image/png": "[encoded data removed]",
            "text/plain": [
              "<PIL.Image.Image image mode=L size=1280x800 at 0x7F52E94CC490>"
            ]
          },
          "metadata": {}
        },
        {
          "output_type": "stream",
          "name": "stdout",
          "text": [
            "4\n"
          ]
        },
        {
          "output_type": "display_data",
          "data": {
            "image/png": "[encoded data removed]",
            "text/plain": [
              "<PIL.Image.Image image mode=L size=1280x800 at 0x7F52E86AADD0>"
            ]
          },
          "metadata": {}
        },
        {
          "output_type": "stream",
          "name": "stdout",
          "text": [
            "5\n"
          ]
        },
        {
          "output_type": "display_data",
          "data": {
            "image/png": "[encoded data removed]",
            "text/plain": [
              "<PIL.Image.Image image mode=L size=1280x800 at 0x7F52F8F54290>"
            ]
          },
          "metadata": {}
        },
        {
          "output_type": "stream",
          "name": "stdout",
          "text": [
            "6\n"
          ]
        },
        {
          "output_type": "display_data",
          "data": {
            "image/png": "[encoded data removed]",
            "text/plain": [
              "<PIL.Image.Image image mode=L size=1280x800 at 0x7F52E86AAD10>"
            ]
          },
          "metadata": {}
        },
        {
          "output_type": "stream",
          "name": "stdout",
          "text": [
            "7\n"
          ]
        },
        {
          "output_type": "display_data",
          "data": {
            "image/png": "[encoded data removed]",
            "text/plain": [
              "<PIL.Image.Image image mode=L size=1280x800 at 0x7F52E94CC490>"
            ]
          },
          "metadata": {}
        },
        {
          "output_type": "stream",
          "name": "stdout",
          "text": [
            "8\n"
          ]
        },
        {
          "output_type": "display_data",
          "data": {
            "image/png": "[encoded data removed]",
            "text/plain": [
              "<PIL.Image.Image image mode=L size=1280x800 at 0x7F52F8F54150>"
            ]
          },
          "metadata": {}
        }
      ]
    },
    {
      "cell_type": "code",
      "metadata": {
        "colab": {
          "base_uri": "https://localhost:8080/",
          "height": 1000
        },
        "id": "lHbZVwFYjDvy",
        "outputId": "ba4b4ade-cb6b-4622-8103-ad21fbfc9a9c"
      },
      "source": [
        "print('Secuencia 3')\n",
        "print('1')\n",
        "cv2_imshow(Rectan3[91])\n",
        "cv2.imwrite(\"/content/Rectan3_91.png\", Rectan3[91])\n",
        "print('2')\n",
        "cv2_imshow(Rectan3[92])\n",
        "cv2.imwrite(\"/content/Rectan3_92.png\", Rectan3[92])\n",
        "print('3')\n",
        "cv2_imshow(Rectan3[93])\n",
        "print('4')\n",
        "cv2_imshow(Rectan3[94])\n",
        "print('5')\n",
        "cv2_imshow(Rectan3[95])\n",
        "print('6')\n",
        "cv2_imshow(Rectan3[96])\n",
        "print('7')\n",
        "cv2_imshow(Rectan3[97])\n",
        "print('8')\n",
        "cv2_imshow(Rectan3[98])"
      ],
      "execution_count": null,
      "outputs": [
        {
          "output_type": "stream",
          "name": "stdout",
          "text": [
            "Secuencia 3\n",
            "1\n"
          ]
        },
        {
          "output_type": "display_data",
          "data": {
            "image/png": "[encoded data removed]",
            "text/plain": [
              "<PIL.Image.Image image mode=L size=1280x800 at 0x7F52E9C6A050>"
            ]
          },
          "metadata": {}
        },
        {
          "output_type": "stream",
          "name": "stdout",
          "text": [
            "2\n"
          ]
        },
        {
          "output_type": "display_data",
          "data": {
            "image/png": "[encoded data removed]",
            "text/plain": [
              "<PIL.Image.Image image mode=L size=1280x800 at 0x7F52E9C6A050>"
            ]
          },
          "metadata": {}
        },
        {
          "output_type": "stream",
          "name": "stdout",
          "text": [
            "3\n"
          ]
        },
        {
          "output_type": "display_data",
          "data": {
            "image/png": "[encoded data removed]",
            "text/plain": [
              "<PIL.Image.Image image mode=L size=1280x800 at 0x7F52E9C6A7D0>"
            ]
          },
          "metadata": {}
        },
        {
          "output_type": "stream",
          "name": "stdout",
          "text": [
            "4\n"
          ]
        },
        {
          "output_type": "display_data",
          "data": {
            "image/png": "[encoded data removed]",
            "text/plain": [
              "<PIL.Image.Image image mode=L size=1280x800 at 0x7F52E95E9D90>"
            ]
          },
          "metadata": {}
        },
        {
          "output_type": "stream",
          "name": "stdout",
          "text": [
            "5\n"
          ]
        },
        {
          "output_type": "display_data",
          "data": {
            "image/png": "[encoded data removed]",
            "text/plain": [
              "<PIL.Image.Image image mode=L size=1280x800 at 0x7F52E9C6A7D0>"
            ]
          },
          "metadata": {}
        },
        {
          "output_type": "stream",
          "name": "stdout",
          "text": [
            "6\n"
          ]
        },
        {
          "output_type": "display_data",
          "data": {
            "image/png": "[encoded data removed]",
            "text/plain": [
              "<PIL.Image.Image image mode=L size=1280x800 at 0x7F52E95E9D90>"
            ]
          },
          "metadata": {}
        },
        {
          "output_type": "stream",
          "name": "stdout",
          "text": [
            "7\n"
          ]
        },
        {
          "output_type": "display_data",
          "data": {
            "image/png": "[encoded data removed]",
            "text/plain": [
              "<PIL.Image.Image image mode=L size=1280x800 at 0x7F52E9C6A7D0>"
            ]
          },
          "metadata": {}
        },
        {
          "output_type": "stream",
          "name": "stdout",
          "text": [
            "8\n"
          ]
        },
        {
          "output_type": "display_data",
          "data": {
            "image/png": "[encoded data removed]",
            "text/plain": [
              "<PIL.Image.Image image mode=L size=1280x800 at 0x7F52E95E9D90>"
            ]
          },
          "metadata": {}
        }
      ]
    },
    {
      "cell_type": "markdown",
      "metadata": {
        "id": "B3aZm2Aaz89k"
      },
      "source": [
        "## Actividad 4"
      ]
    },
    {
      "cell_type": "code",
      "metadata": {
        "id": "jHQqCmgyZq-Z"
      },
      "source": [
        "#Función tracking simple\n",
        "def tracking(seq, min_fila, min_col, max_fila, max_col, alpha):\n",
        "  '''\n",
        "  Esta función se encarga de predecir los vértices del rectángulo que encierra el movimiento para el cuadro siguiente. \n",
        "  seq: secuencia de imágenes binarias\n",
        "  min_fila: lista de mínimos de las filas obtenidos a partir de los histogramas\n",
        "  min_col: lista de mínimos de las columnas obtenidos a partir de los histogramas\n",
        "  max_fila: lista de máximos de las filas obtenidos a partir de los histogramas\n",
        "  max_col: lista de máximos de las columnas obtenidos a partir de los histogramas\n",
        "  min_fila2: predicción de mínimos de las filas\n",
        "  min_col2: predicción de mínimos de las columnas\n",
        "  max_fila2: predicción de máximos de las filas\n",
        "  max_col2: predicción de máximos de las columnas\n",
        "  '''\n",
        "  min_fila2=[]\n",
        "  min_col2=[]\n",
        "  max_fila2=[]\n",
        "  max_col2=[]\n",
        "  for i in range(len(seq)): \n",
        "    if i==0 or i==1: #Condición de no estar en los primeros cuadros \n",
        "      min_fila2.append(min_fila[i])\n",
        "      min_col2.append(min_col[i])\n",
        "      max_fila2.append(max_fila[i])\n",
        "      max_col2.append(max_col[i])\n",
        "    elif i !=0: #Sino aplicación la predicción\n",
        "      min_f=math.floor(min_fila[i-1]+alpha*(min_fila[i-1]-min_fila[i-2]))\n",
        "      min_c=math.floor(min_col[i-1]+alpha*(min_col[i-1]-min_col[i-2]))\n",
        "      max_f=math.floor(max_fila[i-1]+alpha*(max_fila[i-1]-max_fila[i-2]))\n",
        "      max_c=math.floor(max_col[i-1]+alpha*(max_col[i-1]-max_col[i-2]))\n",
        "      #Se asegura que los datos se encuentran en los límites de la imagen\n",
        "      if min_f<=0 or min_f>=len(seq[0])-1:\n",
        "        min_f=0\n",
        "      if min_c<=0 or min_c>=len(seq[0][0])-1:\n",
        "        min_c=0\n",
        "      if max_f<=0 or max_f>=len(seq[0])-1:\n",
        "        max_f=0\n",
        "      if max_c<=0 or max_c>=len(seq[0][0])-1:\n",
        "        max_c=0\n",
        "      min_fila2.append(min_f)\n",
        "      min_col2.append(min_c)\n",
        "      max_fila2.append(max_f)\n",
        "      max_col2.append(max_c)\n",
        "  return min_fila2, min_col2, max_fila2, max_col2\n",
        "      \n"
      ],
      "execution_count": null,
      "outputs": []
    },
    {
      "cell_type": "code",
      "metadata": {
        "id": "uGYVTSYpdB7B"
      },
      "source": [
        "#Prueba \n",
        "#Detecta el movimiento\n",
        "MOV2_SEQ1_3 = detector_2(seq_g[0], 40, f_mean, f_std) \n",
        "MOV2_SEQ2_3 = detector_2(seq_g[1], 40, f_mean, f_std)\n",
        "MOV2_SEQ3_3 = detector_2(seq_g[2], 40, f_mean, f_std)\n",
        "\n"
      ],
      "execution_count": null,
      "outputs": []
    },
    {
      "cell_type": "code",
      "metadata": {
        "id": "kVbMzflUgU14"
      },
      "source": [
        "min_filas_seq1_2, min_columnas_seq1_2, max_filas_seq1_2, max_columnas_seq1_2=tracking(MOV2_SEQ1_3, min_filas_seq1, min_columnas_seq1, max_filas_seq1, max_columnas_seq1, 1)\n",
        "min_filas_seq2_2, min_columnas_seq2_2, max_filas_seq2_2, max_columnas_seq2_2=tracking(MOV2_SEQ2_3, min_filas_seq2, min_columnas_seq2, max_filas_seq2, max_columnas_seq2, 1)\n",
        "min_filas_seq3_2, min_columnas_seq3_2, max_filas_seq3_2, max_columnas_seq3_2=tracking(MOV2_SEQ3_3, min_filas_seq3, min_columnas_seq3, max_filas_seq3, max_columnas_seq3, 1)\n"
      ],
      "execution_count": null,
      "outputs": []
    },
    {
      "cell_type": "code",
      "metadata": {
        "colab": {
          "base_uri": "https://localhost:8080/",
          "height": 1000
        },
        "id": "axD7qGmhdcAL",
        "outputId": "3b9c12ce-7949-441c-8983-d27ca3577f06"
      },
      "source": [
        "#Predicción caja de movimiento \n",
        "Rectan1_2=blob(MOV2_SEQ1_3, min_filas_seq1_2, max_filas_seq1_2, min_columnas_seq1_2, max_columnas_seq1_2)\n",
        "Rectan2_2=blob(MOV2_SEQ2_3, min_filas_seq2_2, max_filas_seq2_2, min_columnas_seq2_2, max_columnas_seq2_2)\n",
        "Rectan3_2=blob(MOV2_SEQ3_3, min_filas_seq3_2, max_filas_seq3_2, min_columnas_seq3_2, max_columnas_seq3_2)\n",
        "\n",
        "#Secuencia 1\n",
        "print('1')\n",
        "cv2_imshow(Rectan1_2[12])\n",
        "cv2.imwrite(\"/content/Rectan1_2_12.png\", Rectan1_2[12])\n",
        "print('2')\n",
        "cv2_imshow(Rectan1_2[13])\n",
        "cv2.imwrite(\"/content/Rectan1_2_13.png\", Rectan1_2[13])\n",
        "print('3')\n",
        "cv2_imshow(Rectan1_2[14])\n",
        "print('4')\n",
        "cv2_imshow(Rectan1_2[15])\n",
        "print('5')\n",
        "cv2_imshow(Rectan1_2[16])\n",
        "print('6')\n",
        "cv2_imshow(Rectan1_2[17])\n",
        "print('7')\n",
        "cv2_imshow(Rectan1_2[18])\n",
        "print('8')\n",
        "cv2_imshow(Rectan1_2[19])"
      ],
      "execution_count": null,
      "outputs": [
        {
          "output_type": "stream",
          "name": "stdout",
          "text": [
            "1\n"
          ]
        },
        {
          "output_type": "display_data",
          "data": {
            "image/png": "[encoded data removed]",
            "text/plain": [
              "<PIL.Image.Image image mode=L size=1280x800 at 0x7F52E9C6A9D0>"
            ]
          },
          "metadata": {}
        },
        {
          "output_type": "stream",
          "name": "stdout",
          "text": [
            "2\n"
          ]
        },
        {
          "output_type": "display_data",
          "data": {
            "image/png": "[encoded data removed]",
            "text/plain": [
              "<PIL.Image.Image image mode=L size=1280x800 at 0x7F52E9C6A990>"
            ]
          },
          "metadata": {}
        },
        {
          "output_type": "stream",
          "name": "stdout",
          "text": [
            "3\n"
          ]
        },
        {
          "output_type": "display_data",
          "data": {
            "image/png": "[encoded data removed]",
            "text/plain": [
              "<PIL.Image.Image image mode=L size=1280x800 at 0x7F52E9C6A7D0>"
            ]
          },
          "metadata": {}
        },
        {
          "output_type": "stream",
          "name": "stdout",
          "text": [
            "4\n"
          ]
        },
        {
          "output_type": "display_data",
          "data": {
            "image/png": "[encoded data removed]",
            "text/plain": [
              "<PIL.Image.Image image mode=L size=1280x800 at 0x7F52E9C6A550>"
            ]
          },
          "metadata": {}
        },
        {
          "output_type": "stream",
          "name": "stdout",
          "text": [
            "5\n"
          ]
        },
        {
          "output_type": "display_data",
          "data": {
            "image/png": "[encoded data removed]",
            "text/plain": [
              "<PIL.Image.Image image mode=L size=1280x800 at 0x7F52E9C6A7D0>"
            ]
          },
          "metadata": {}
        },
        {
          "output_type": "stream",
          "name": "stdout",
          "text": [
            "6\n"
          ]
        },
        {
          "output_type": "display_data",
          "data": {
            "image/png": "[encoded data removed]",
            "text/plain": [
              "<PIL.Image.Image image mode=L size=1280x800 at 0x7F52E94CC1D0>"
            ]
          },
          "metadata": {}
        },
        {
          "output_type": "stream",
          "name": "stdout",
          "text": [
            "7\n"
          ]
        },
        {
          "output_type": "display_data",
          "data": {
            "image/png": "[encoded data removed]",
            "text/plain": [
              "<PIL.Image.Image image mode=L size=1280x800 at 0x7F52E9C6A9D0>"
            ]
          },
          "metadata": {}
        },
        {
          "output_type": "stream",
          "name": "stdout",
          "text": [
            "8\n"
          ]
        },
        {
          "output_type": "display_data",
          "data": {
            "image/png": "[encoded data removed]",
            "text/plain": [
              "<PIL.Image.Image image mode=L size=1280x800 at 0x7F52E817FA90>"
            ]
          },
          "metadata": {}
        }
      ]
    },
    {
      "cell_type": "code",
      "metadata": {
        "colab": {
          "base_uri": "https://localhost:8080/",
          "height": 1000
        },
        "id": "HQOpwKpKn9GM",
        "outputId": "c02da3dd-3d30-4368-80c9-d508e149e684"
      },
      "source": [
        "#Secuencia 2\n",
        "print('1')\n",
        "cv2_imshow(Rectan2_2[76])\n",
        "print('2')\n",
        "cv2_imshow(Rectan2_2[77])\n",
        "print('3')\n",
        "cv2_imshow(Rectan2_2[78])\n",
        "cv2.imwrite(\"/content/Rectan2_2_78.png\", Rectan2_2[78])\n",
        "print('4')\n",
        "cv2_imshow(Rectan2_2[79])\n",
        "cv2.imwrite(\"/content/Rectan2_2_79.png\", Rectan2_2[79])\n",
        "print('5')\n",
        "cv2_imshow(Rectan2_2[80])\n",
        "print('6')\n",
        "cv2_imshow(Rectan2_2[81])\n",
        "print('7')\n",
        "cv2_imshow(Rectan2_2[82])\n",
        "print('8')\n",
        "cv2_imshow(Rectan2_2[83])"
      ],
      "execution_count": null,
      "outputs": [
        {
          "output_type": "stream",
          "name": "stdout",
          "text": [
            "1\n"
          ]
        },
        {
          "output_type": "display_data",
          "data": {
            "image/png": "[encoded data removed]",
            "text/plain": [
              "<PIL.Image.Image image mode=L size=1280x800 at 0x7F52E8687790>"
            ]
          },
          "metadata": {}
        },
        {
          "output_type": "stream",
          "name": "stdout",
          "text": [
            "2\n"
          ]
        },
        {
          "output_type": "display_data",
          "data": {
            "image/png": "[encoded data removed]",
            "text/plain": [
              "<PIL.Image.Image image mode=L size=1280x800 at 0x7F52E8687950>"
            ]
          },
          "metadata": {}
        },
        {
          "output_type": "stream",
          "name": "stdout",
          "text": [
            "3\n"
          ]
        },
        {
          "output_type": "display_data",
          "data": {
            "image/png": "[encoded data removed]",
            "text/plain": [
              "<PIL.Image.Image image mode=L size=1280x800 at 0x7F52E8687A50>"
            ]
          },
          "metadata": {}
        },
        {
          "output_type": "stream",
          "name": "stdout",
          "text": [
            "4\n"
          ]
        },
        {
          "output_type": "display_data",
          "data": {
            "image/png": "[encoded data removed]",
            "text/plain": [
              "<PIL.Image.Image image mode=L size=1280x800 at 0x7F52E86879D0>"
            ]
          },
          "metadata": {}
        },
        {
          "output_type": "stream",
          "name": "stdout",
          "text": [
            "5\n"
          ]
        },
        {
          "output_type": "display_data",
          "data": {
            "image/png": "[encoded data removed]",
            "text/plain": [
              "<PIL.Image.Image image mode=L size=1280x800 at 0x7F52E86872D0>"
            ]
          },
          "metadata": {}
        },
        {
          "output_type": "stream",
          "name": "stdout",
          "text": [
            "6\n"
          ]
        },
        {
          "output_type": "display_data",
          "data": {
            "image/png": "[encoded data removed]",
            "text/plain": [
              "<PIL.Image.Image image mode=L size=1280x800 at 0x7F52E8687510>"
            ]
          },
          "metadata": {}
        },
        {
          "output_type": "stream",
          "name": "stdout",
          "text": [
            "7\n"
          ]
        },
        {
          "output_type": "display_data",
          "data": {
            "image/png": "[encoded data removed]",
            "text/plain": [
              "<PIL.Image.Image image mode=L size=1280x800 at 0x7F52E8687C10>"
            ]
          },
          "metadata": {}
        },
        {
          "output_type": "stream",
          "name": "stdout",
          "text": [
            "8\n"
          ]
        },
        {
          "output_type": "display_data",
          "data": {
            "image/png": "[encoded data removed]",
            "text/plain": [
              "<PIL.Image.Image image mode=L size=1280x800 at 0x7F52E8687610>"
            ]
          },
          "metadata": {}
        }
      ]
    },
    {
      "cell_type": "code",
      "metadata": {
        "colab": {
          "base_uri": "https://localhost:8080/",
          "height": 1000
        },
        "id": "E18vXjs7n97w",
        "outputId": "289b1d65-4e95-4a21-cdff-919e12dc202f"
      },
      "source": [
        "#Secuencia 3\n",
        "print('1')\n",
        "cv2_imshow(Rectan3_2[91])\n",
        "cv2.imwrite(\"/content/Rectan3_2_91.png\", Rectan3_2[91])\n",
        "print('2')\n",
        "cv2_imshow(Rectan3_2[92])\n",
        "cv2.imwrite(\"/content/Rectan3_2_92.png\", Rectan3_2[92])\n",
        "print('3')\n",
        "cv2_imshow(Rectan3_2[93])\n",
        "print('4')\n",
        "cv2_imshow(Rectan3_2[94])\n",
        "print('5')\n",
        "cv2_imshow(Rectan3_2[95])\n",
        "print('6')\n",
        "cv2_imshow(Rectan3_2[96])\n",
        "print('7')\n",
        "cv2_imshow(Rectan3_2[97])\n",
        "print('8')\n",
        "cv2_imshow(Rectan3_2[98])"
      ],
      "execution_count": null,
      "outputs": [
        {
          "output_type": "stream",
          "name": "stdout",
          "text": [
            "1\n"
          ]
        },
        {
          "output_type": "display_data",
          "data": {
            "image/png": "[encoded data removed]",
            "text/plain": [
              "<PIL.Image.Image image mode=L size=1280x800 at 0x7F52E8946BD0>"
            ]
          },
          "metadata": {}
        },
        {
          "output_type": "stream",
          "name": "stdout",
          "text": [
            "2\n"
          ]
        },
        {
          "output_type": "display_data",
          "data": {
            "image/png": "[encoded data removed]",
            "text/plain": [
              "<PIL.Image.Image image mode=L size=1280x800 at 0x7F52E8946550>"
            ]
          },
          "metadata": {}
        },
        {
          "output_type": "stream",
          "name": "stdout",
          "text": [
            "3\n"
          ]
        },
        {
          "output_type": "display_data",
          "data": {
            "image/png": "[encoded data removed]",
            "text/plain": [
              "<PIL.Image.Image image mode=L size=1280x800 at 0x7F52E89466D0>"
            ]
          },
          "metadata": {}
        },
        {
          "output_type": "stream",
          "name": "stdout",
          "text": [
            "4\n"
          ]
        },
        {
          "output_type": "display_data",
          "data": {
            "image/png": "[encoded data removed]",
            "text/plain": [
              "<PIL.Image.Image image mode=L size=1280x800 at 0x7F52E8946650>"
            ]
          },
          "metadata": {}
        },
        {
          "output_type": "stream",
          "name": "stdout",
          "text": [
            "5\n"
          ]
        },
        {
          "output_type": "display_data",
          "data": {
            "image/png": "[encoded data removed]",
            "text/plain": [
              "<PIL.Image.Image image mode=L size=1280x800 at 0x7F52E8946F50>"
            ]
          },
          "metadata": {}
        },
        {
          "output_type": "stream",
          "name": "stdout",
          "text": [
            "6\n"
          ]
        },
        {
          "output_type": "display_data",
          "data": {
            "image/png": "[encoded data removed]",
            "text/plain": [
              "<PIL.Image.Image image mode=L size=1280x800 at 0x7F52E8946150>"
            ]
          },
          "metadata": {}
        },
        {
          "output_type": "stream",
          "name": "stdout",
          "text": [
            "7\n"
          ]
        },
        {
          "output_type": "display_data",
          "data": {
            "image/png": "[encoded data removed]",
            "text/plain": [
              "<PIL.Image.Image image mode=L size=1280x800 at 0x7F52E8946710>"
            ]
          },
          "metadata": {}
        },
        {
          "output_type": "stream",
          "name": "stdout",
          "text": [
            "8\n"
          ]
        },
        {
          "output_type": "display_data",
          "data": {
            "image/png": "[encoded data removed]",
            "text/plain": [
              "<PIL.Image.Image image mode=L size=1280x800 at 0x7F52E8946D50>"
            ]
          },
          "metadata": {}
        }
      ]
    },
    {
      "cell_type": "markdown",
      "metadata": {
        "id": "NvIi9ActnXRp"
      },
      "source": [
        "### Actividad 5"
      ]
    },
    {
      "cell_type": "code",
      "metadata": {
        "colab": {
          "resources": {
            "http://localhost:8080/nbextensions/google.colab/files.js": {
              "data": "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",
              "ok": true,
              "headers": [
                [
                  "content-type",
                  "application/javascript"
                ]
              ],
              "status": 200,
              "status_text": ""
            }
          },
          "base_uri": "https://localhost:8080/",
          "height": 140
        },
        "id": "W0gZyXFbUnH_",
        "outputId": "fdc98575-4728-4b05-86fe-91bb8d99421e"
      },
      "source": [
        "#Sube una carpeta vacía que almacenará las imágenes con los cuadros de detección\n",
        "from google.colab import files\n",
        "uploaded = files.upload() \n",
        "\n",
        "!unzip det.zip"
      ],
      "execution_count": null,
      "outputs": [
        {
          "output_type": "display_data",
          "data": {
            "text/html": [
              "\n",
              "     <input type=\"file\" id=\"files-479c4773-fd8a-4b18-b135-f4f06d7b3f70\" name=\"files[]\" multiple disabled\n",
              "        style=\"border:none\" />\n",
              "     <output id=\"result-479c4773-fd8a-4b18-b135-f4f06d7b3f70\">\n",
              "      Upload widget is only available when the cell has been executed in the\n",
              "      current browser session. Please rerun this cell to enable.\n",
              "      </output>\n",
              "      <script src=\"/nbextensions/google.colab/files.js\"></script> "
            ],
            "text/plain": [
              "<IPython.core.display.HTML object>"
            ]
          },
          "metadata": {}
        },
        {
          "output_type": "stream",
          "name": "stdout",
          "text": [
            "Saving det.zip to det.zip\n",
            "Archive:  det.zip\n",
            "   creating: det/det_seq4/\n",
            "   creating: det/det_seq5/\n",
            "   creating: det/det_seq6/\n"
          ]
        }
      ]
    },
    {
      "cell_type": "code",
      "metadata": {
        "colab": {
          "base_uri": "https://localhost:8080/",
          "height": 661
        },
        "id": "Yi9hvkvWnZYB",
        "outputId": "4f8159cc-f163-4919-fb94-2c4400d9de27"
      },
      "source": [
        "#Detector de movimiento \n",
        "#Secuencia 4\n",
        "dif_seq4,mov_seq4 = detector(seq_g[3], 25)\n",
        "DIF_SEQ4,MOV_SEQ4 = detector(seq_g[3], 25)\n",
        "\n",
        "#Ejemplos\n",
        "print('Ejemplos de detección para la secuencia 4')\n",
        "print('1')\n",
        "cv2_imshow(mov_seq4[281]) #Reconoce una paloma\n",
        "cv2.imwrite(\"/content/det_seq4_281.png\", mov_seq4[281])\n",
        "print('2')\n",
        "cv2_imshow(mov_seq4[282])\n",
        "cv2.imwrite(\"/content/det_seq4_282.png\", mov_seq4[282])\n"
      ],
      "execution_count": null,
      "outputs": [
        {
          "output_type": "stream",
          "name": "stdout",
          "text": [
            "Ejemplos de detección para la secuencia 4\n",
            "1\n"
          ]
        },
        {
          "output_type": "display_data",
          "data": {
            "image/png": "[encoded data removed]",
            "text/plain": [
              "<PIL.Image.Image image mode=L size=352x288 at 0x7F52E8692A10>"
            ]
          },
          "metadata": {}
        },
        {
          "output_type": "stream",
          "name": "stdout",
          "text": [
            "2\n"
          ]
        },
        {
          "output_type": "display_data",
          "data": {
            "image/png": "[encoded data removed]",
            "text/plain": [
              "<PIL.Image.Image image mode=L size=352x288 at 0x7F52E8692910>"
            ]
          },
          "metadata": {}
        },
        {
          "output_type": "execute_result",
          "data": {
            "text/plain": [
              "True"
            ]
          },
          "metadata": {},
          "execution_count": 49
        }
      ]
    },
    {
      "cell_type": "code",
      "metadata": {
        "colab": {
          "base_uri": "https://localhost:8080/",
          "height": 661
        },
        "id": "_FmNyie9n5jc",
        "outputId": "92452fe5-e203-4120-baea-620f8c1c6edd"
      },
      "source": [
        "#Detector de movimiento \n",
        "#Secuencia 5\n",
        "dif_seq5,mov_seq5 = detector(seq_g[4], 25) #Guarda imágenes binarias\n",
        "DIF_SEQ5,MOV_SEQ5 = detector(seq_g[4], 25)\n",
        "\n",
        "#Ejemplos\n",
        "print('Ejemplos de detección para la secuencia 5')\n",
        "print('1')\n",
        "cv2_imshow(mov_seq5[174]) #Reconoce una paloma\n",
        "cv2.imwrite(\"/content/det_seq5_174.png\", mov_seq5[174])\n",
        "print('2')\n",
        "cv2_imshow(mov_seq5[175])\n",
        "cv2.imwrite(\"/content/det_seq5_175.png\", mov_seq5[175])"
      ],
      "execution_count": null,
      "outputs": [
        {
          "output_type": "stream",
          "name": "stdout",
          "text": [
            "Ejemplos de detección para la secuencia 5\n",
            "1\n"
          ]
        },
        {
          "output_type": "display_data",
          "data": {
            "image/png": "[encoded data removed]",
            "text/plain": [
              "<PIL.Image.Image image mode=L size=352x288 at 0x7F52E8692890>"
            ]
          },
          "metadata": {}
        },
        {
          "output_type": "stream",
          "name": "stdout",
          "text": [
            "2\n"
          ]
        },
        {
          "output_type": "display_data",
          "data": {
            "image/png": "[encoded data removed]",
            "text/plain": [
              "<PIL.Image.Image image mode=L size=352x288 at 0x7F52E8692550>"
            ]
          },
          "metadata": {}
        },
        {
          "output_type": "execute_result",
          "data": {
            "text/plain": [
              "True"
            ]
          },
          "metadata": {},
          "execution_count": 50
        }
      ]
    },
    {
      "cell_type": "code",
      "metadata": {
        "colab": {
          "base_uri": "https://localhost:8080/",
          "height": 661
        },
        "id": "VwJJdUUGoDNj",
        "outputId": "9ced43af-147f-4a21-f68d-bf99c0e0586c"
      },
      "source": [
        "#Detector de movimiento \n",
        "#Secuencia 6\n",
        "dif_seq6,mov_seq6= detector(seq_g[5], 25)\n",
        "DIF_SEQ6,MOV_SEQ6= detector(seq_g[5], 25)\n",
        "\n",
        "#Ejemplos\n",
        "print('Ejemplos de detección para la secuencia 6')\n",
        "print('1')\n",
        "cv2_imshow(mov_seq6[164]) #Reconoce una paloma\n",
        "cv2.imwrite(\"/content/det_seq6_164.png\", mov_seq6[164])\n",
        "print('2')\n",
        "cv2_imshow(mov_seq6[165])\n",
        "cv2.imwrite(\"/content/det_seq6_165.png\", mov_seq6[165])"
      ],
      "execution_count": null,
      "outputs": [
        {
          "output_type": "stream",
          "name": "stdout",
          "text": [
            "Ejemplos de detección para la secuencia 6\n",
            "1\n"
          ]
        },
        {
          "output_type": "display_data",
          "data": {
            "image/png": "[encoded data removed]",
            "text/plain": [
              "<PIL.Image.Image image mode=L size=352x288 at 0x7F52E7A79BD0>"
            ]
          },
          "metadata": {}
        },
        {
          "output_type": "stream",
          "name": "stdout",
          "text": [
            "2\n"
          ]
        },
        {
          "output_type": "display_data",
          "data": {
            "image/png": "[encoded data removed]",
            "text/plain": [
              "<PIL.Image.Image image mode=L size=352x288 at 0x7F52E7A79610>"
            ]
          },
          "metadata": {}
        },
        {
          "output_type": "execute_result",
          "data": {
            "text/plain": [
              "True"
            ]
          },
          "metadata": {},
          "execution_count": 51
        }
      ]
    },
    {
      "cell_type": "code",
      "metadata": {
        "id": "JobDBpznpe63"
      },
      "source": [
        "#histogramas de las 3 secuencias\n",
        "fila_seq4, col_seq4 = histogramas(mov_seq4)\n",
        "fila_seq5, col_seq5 = histogramas(mov_seq5)\n",
        "fila_seq6, col_seq6 = histogramas(mov_seq6)\n",
        "\n",
        "#Minimos y maximos por fila y columna de cada histograma para cada secuencia\n",
        "min_filas_seq4 = minmax(fila_seq4, 'min',1300)\n",
        "max_filas_seq4 = minmax(fila_seq4, 'max',1300)\n",
        "min_columnas_seq4 = minmax(col_seq4, 'min',1300)\n",
        "max_columnas_seq4 = minmax(col_seq4, 'max',1300)\n",
        "\n",
        "min_filas_seq5 = minmax(fila_seq5, 'min',1300)\n",
        "max_filas_seq5 = minmax(fila_seq5, 'max',1300)\n",
        "min_columnas_seq5 = minmax(col_seq5, 'min',1300)\n",
        "max_columnas_seq5 = minmax(col_seq5, 'max',1300)\n",
        "\n",
        "min_filas_seq6 = minmax(fila_seq6, 'min',1300)\n",
        "max_filas_seq6 = minmax(fila_seq6, 'max',1300)\n",
        "min_columnas_seq6 = minmax(col_seq6, 'min',1300)\n",
        "max_columnas_seq6 = minmax(col_seq6, 'max',1300)\n",
        "\n",
        "#Blob de movimiento \n",
        "Rectan4 = blob(MOV_SEQ4, min_filas_seq4, max_filas_seq4, min_columnas_seq4, max_columnas_seq4)\n",
        "Rectan5 = blob(MOV_SEQ5, min_filas_seq5, max_filas_seq5, min_columnas_seq5, max_columnas_seq5)\n",
        "Rectan6 = blob(MOV_SEQ6, min_filas_seq6, max_filas_seq6, min_columnas_seq6, max_columnas_seq6)\n"
      ],
      "execution_count": null,
      "outputs": []
    },
    {
      "cell_type": "code",
      "metadata": {
        "id": "0DMi8DaGbl0W"
      },
      "source": [
        "for i in range(len(Rectan4)):\n",
        "  cv2.imwrite(\"/content/det/det_seq4/rec_seq4_\"+str(i)+\".png\",Rectan4[i])\n"
      ],
      "execution_count": null,
      "outputs": []
    },
    {
      "cell_type": "code",
      "metadata": {
        "colab": {
          "base_uri": "https://localhost:8080/",
          "height": 1000
        },
        "id": "9Q51Mijyaclj",
        "outputId": "80ba507d-bb23-4941-e9ad-a6d6aad226aa"
      },
      "source": [
        "!Zip -r \"/content/det_seq4.Zip\" \"/content/det/det_seq4\"\n",
        "files.download(\"/content/det/det_seq4\")\n",
        "  \n",
        "#Secuencia 4\n",
        "print('Secuencia 4')\n",
        "print('1')\n",
        "cv2_imshow(Rectan4[281])\n",
        "cv2.imwrite(\"/content/Rectan4_281.png\", Rectan4[281])\n",
        "print('2')\n",
        "cv2_imshow(Rectan4[282])\n",
        "cv2.imwrite(\"/content/Rectan4_282.png\", Rectan4[282])\n",
        "print('3')\n",
        "cv2_imshow(Rectan4[283])\n",
        "print('4')\n",
        "cv2_imshow(Rectan4[284])\n",
        "print('5')\n",
        "cv2_imshow(Rectan4[285])\n",
        "print('6')\n",
        "cv2_imshow(Rectan4[286])\n",
        "print('7')\n",
        "cv2_imshow(Rectan4[287])\n",
        "print('8')\n",
        "cv2_imshow(Rectan4[288])\n",
        "\n"
      ],
      "execution_count": null,
      "outputs": [
        {
          "output_type": "stream",
          "name": "stdout",
          "text": [
            "/bin/bash: Zip: command not found\n"
          ]
        },
        {
          "output_type": "display_data",
          "data": {
            "application/javascript": [
              "\n",
              "    async function download(id, filename, size) {\n",
              "      if (!google.colab.kernel.accessAllowed) {\n",
              "        return;\n",
              "      }\n",
              "      const div = document.createElement('div');\n",
              "      const label = document.createElement('label');\n",
              "      label.textContent = `Downloading \"${filename}\": `;\n",
              "      div.appendChild(label);\n",
              "      const progress = document.createElement('progress');\n",
              "      progress.max = size;\n",
              "      div.appendChild(progress);\n",
              "      document.body.appendChild(div);\n",
              "\n",
              "      const buffers = [];\n",
              "      let downloaded = 0;\n",
              "\n",
              "      const channel = await google.colab.kernel.comms.open(id);\n",
              "      // Send a message to notify the kernel that we're ready.\n",
              "      channel.send({})\n",
              "\n",
              "      for await (const message of channel.messages) {\n",
              "        // Send a message to notify the kernel that we're ready.\n",
              "        channel.send({})\n",
              "        if (message.buffers) {\n",
              "          for (const buffer of message.buffers) {\n",
              "            buffers.push(buffer);\n",
              "            downloaded += buffer.byteLength;\n",
              "            progress.value = downloaded;\n",
              "          }\n",
              "        }\n",
              "      }\n",
              "      const blob = new Blob(buffers, {type: 'application/binary'});\n",
              "      const a = document.createElement('a');\n",
              "      a.href = window.URL.createObjectURL(blob);\n",
              "      a.download = filename;\n",
              "      div.appendChild(a);\n",
              "      a.click();\n",
              "      div.remove();\n",
              "    }\n",
              "  "
            ],
            "text/plain": [
              "<IPython.core.display.Javascript object>"
            ]
          },
          "metadata": {}
        },
        {
          "output_type": "display_data",
          "data": {
            "application/javascript": [
              "download(\"download_0adbd974-bdd0-4d0f-ab98-f2c5cef1c414\", \"det_seq4\", 20480)"
            ],
            "text/plain": [
              "<IPython.core.display.Javascript object>"
            ]
          },
          "metadata": {}
        },
        {
          "output_type": "stream",
          "name": "stdout",
          "text": [
            "Secuencia 4\n",
            "1\n"
          ]
        },
        {
          "output_type": "display_data",
          "data": {
            "image/png": "[encoded data removed]",
            "text/plain": [
              "<PIL.Image.Image image mode=L size=352x288 at 0x7F52E857E290>"
            ]
          },
          "metadata": {}
        },
        {
          "output_type": "stream",
          "name": "stdout",
          "text": [
            "2\n"
          ]
        },
        {
          "output_type": "display_data",
          "data": {
            "image/png": "[encoded data removed]",
            "text/plain": [
              "<PIL.Image.Image image mode=L size=352x288 at 0x7F52E89AD3D0>"
            ]
          },
          "metadata": {}
        },
        {
          "output_type": "stream",
          "name": "stdout",
          "text": [
            "3\n"
          ]
        },
        {
          "output_type": "display_data",
          "data": {
            "image/png": "[encoded data removed]",
            "text/plain": [
              "<PIL.Image.Image image mode=L size=352x288 at 0x7F52E89AD490>"
            ]
          },
          "metadata": {}
        },
        {
          "output_type": "stream",
          "name": "stdout",
          "text": [
            "4\n"
          ]
        },
        {
          "output_type": "display_data",
          "data": {
            "image/png": "[encoded data removed]",
            "text/plain": [
              "<PIL.Image.Image image mode=L size=352x288 at 0x7F52E89AD710>"
            ]
          },
          "metadata": {}
        },
        {
          "output_type": "stream",
          "name": "stdout",
          "text": [
            "5\n"
          ]
        },
        {
          "output_type": "display_data",
          "data": {
            "image/png": "[encoded data removed]",
            "text/plain": [
              "<PIL.Image.Image image mode=L size=352x288 at 0x7F52E89AD750>"
            ]
          },
          "metadata": {}
        },
        {
          "output_type": "stream",
          "name": "stdout",
          "text": [
            "6\n"
          ]
        },
        {
          "output_type": "display_data",
          "data": {
            "image/png": "[encoded data removed]",
            "text/plain": [
              "<PIL.Image.Image image mode=L size=352x288 at 0x7F52E89AD4D0>"
            ]
          },
          "metadata": {}
        },
        {
          "output_type": "stream",
          "name": "stdout",
          "text": [
            "7\n"
          ]
        },
        {
          "output_type": "display_data",
          "data": {
            "image/png": "[encoded data removed]",
            "text/plain": [
              "<PIL.Image.Image image mode=L size=352x288 at 0x7F52E89ADD10>"
            ]
          },
          "metadata": {}
        },
        {
          "output_type": "stream",
          "name": "stdout",
          "text": [
            "8\n"
          ]
        },
        {
          "output_type": "display_data",
          "data": {
            "image/png": "[encoded data removed]",
            "text/plain": [
              "<PIL.Image.Image image mode=L size=352x288 at 0x7F52E86AAD90>"
            ]
          },
          "metadata": {}
        }
      ]
    },
    {
      "cell_type": "code",
      "metadata": {
        "colab": {
          "base_uri": "https://localhost:8080/",
          "height": 1000
        },
        "id": "Nmmd_SoauAyq",
        "outputId": "c79b1299-30a8-4325-ac70-fdc2571add10"
      },
      "source": [
        "#Secuencia 5\n",
        "\n",
        "for i in range(len(Rectan5)):\n",
        "  cv2.imwrite(\"/content/det/det_seq5/rec_seq5_\"+str(i)+\".png\",Rectan5[i])\n",
        "  \n",
        "print('Secuencia 5')\n",
        "print('1')\n",
        "cv2_imshow(Rectan5[174])\n",
        "cv2.imwrite(\"/content/Rectan5_174.png\", Rectan5[174])\n",
        "print('2')\n",
        "cv2_imshow(Rectan5[175])\n",
        "cv2.imwrite(\"/content/Rectan5_175.png\", Rectan5[175])\n",
        "print('3')\n",
        "cv2_imshow(Rectan5[176])\n",
        "print('4')\n",
        "cv2_imshow(Rectan5[177])\n",
        "print('5')\n",
        "cv2_imshow(Rectan5[178])\n",
        "print('6')\n",
        "cv2_imshow(Rectan5[179])\n",
        "print('7')\n",
        "cv2_imshow(Rectan5[180])\n",
        "print('8')\n",
        "cv2_imshow(Rectan5[181])\n",
        "\n"
      ],
      "execution_count": null,
      "outputs": [
        {
          "output_type": "stream",
          "name": "stdout",
          "text": [
            "Secuencia 5\n",
            "1\n"
          ]
        },
        {
          "output_type": "display_data",
          "data": {
            "image/png": "[encoded data removed]",
            "text/plain": [
              "<PIL.Image.Image image mode=L size=352x288 at 0x7F52E89AD5D0>"
            ]
          },
          "metadata": {}
        },
        {
          "output_type": "stream",
          "name": "stdout",
          "text": [
            "2\n"
          ]
        },
        {
          "output_type": "display_data",
          "data": {
            "image/png": "[encoded data removed]",
            "text/plain": [
              "<PIL.Image.Image image mode=L size=352x288 at 0x7F52E89AD3D0>"
            ]
          },
          "metadata": {}
        },
        {
          "output_type": "stream",
          "name": "stdout",
          "text": [
            "3\n"
          ]
        },
        {
          "output_type": "display_data",
          "data": {
            "image/png": "[encoded data removed]",
            "text/plain": [
              "<PIL.Image.Image image mode=L size=352x288 at 0x7F52E81E3450>"
            ]
          },
          "metadata": {}
        },
        {
          "output_type": "stream",
          "name": "stdout",
          "text": [
            "4\n"
          ]
        },
        {
          "output_type": "display_data",
          "data": {
            "image/png": "[encoded data removed]",
            "text/plain": [
              "<PIL.Image.Image image mode=L size=352x288 at 0x7F52E87440D0>"
            ]
          },
          "metadata": {}
        },
        {
          "output_type": "stream",
          "name": "stdout",
          "text": [
            "5\n"
          ]
        },
        {
          "output_type": "display_data",
          "data": {
            "image/png": "[encoded data removed]",
            "text/plain": [
              "<PIL.Image.Image image mode=L size=352x288 at 0x7F52E89AD3D0>"
            ]
          },
          "metadata": {}
        },
        {
          "output_type": "stream",
          "name": "stdout",
          "text": [
            "6\n"
          ]
        },
        {
          "output_type": "display_data",
          "data": {
            "image/png": "[encoded data removed]",
            "text/plain": [
              "<PIL.Image.Image image mode=L size=352x288 at 0x7F52E94F35D0>"
            ]
          },
          "metadata": {}
        },
        {
          "output_type": "stream",
          "name": "stdout",
          "text": [
            "7\n"
          ]
        },
        {
          "output_type": "display_data",
          "data": {
            "image/png": "[encoded data removed]",
            "text/plain": [
              "<PIL.Image.Image image mode=L size=352x288 at 0x7F52E89AD3D0>"
            ]
          },
          "metadata": {}
        },
        {
          "output_type": "stream",
          "name": "stdout",
          "text": [
            "8\n"
          ]
        },
        {
          "output_type": "display_data",
          "data": {
            "image/png": "[encoded data removed]",
            "text/plain": [
              "<PIL.Image.Image image mode=L size=352x288 at 0x7F52E94F35D0>"
            ]
          },
          "metadata": {}
        }
      ]
    },
    {
      "cell_type": "code",
      "metadata": {
        "colab": {
          "base_uri": "https://localhost:8080/",
          "height": 1000
        },
        "id": "6Cq7S1kjuEA_",
        "outputId": "c5f6c3a4-3a77-437a-98ed-8b227de23073"
      },
      "source": [
        "#Secuencia 6\n",
        "\n",
        "for i in range(len(Rectan6)):\n",
        "  cv2.imwrite(\"/content/det/det_seq6/rec_seq6_\"+str(i)+\".png\",Rectan6[i])\n",
        "  \n",
        "print('Secuencia 6')\n",
        "print('1')\n",
        "cv2_imshow(Rectan6[164])\n",
        "cv2.imwrite(\"/content/Rectan6_164.png\", Rectan6[164])\n",
        "print('2')\n",
        "cv2_imshow(Rectan6[165])\n",
        "cv2.imwrite(\"/content/Rectan6_165.png\", Rectan6[165])\n",
        "print('3')\n",
        "cv2_imshow(Rectan6[166])\n",
        "print('4')\n",
        "cv2_imshow(Rectan6[167])\n",
        "print('5')\n",
        "cv2_imshow(Rectan6[168])\n",
        "print('6')\n",
        "cv2_imshow(Rectan6[169])\n",
        "print('7')\n",
        "cv2_imshow(Rectan6[170])\n",
        "print('8')\n",
        "cv2_imshow(Rectan6[171])"
      ],
      "execution_count": null,
      "outputs": [
        {
          "output_type": "stream",
          "name": "stdout",
          "text": [
            "Secuencia 6\n",
            "1\n"
          ]
        },
        {
          "output_type": "display_data",
          "data": {
            "image/png": "[encoded data removed]",
            "text/plain": [
              "<PIL.Image.Image image mode=L size=352x288 at 0x7F52E80DF110>"
            ]
          },
          "metadata": {}
        },
        {
          "output_type": "stream",
          "name": "stdout",
          "text": [
            "2\n"
          ]
        },
        {
          "output_type": "display_data",
          "data": {
            "image/png": "[encoded data removed]",
            "text/plain": [
              "<PIL.Image.Image image mode=L size=352x288 at 0x7F52E7A79ED0>"
            ]
          },
          "metadata": {}
        },
        {
          "output_type": "stream",
          "name": "stdout",
          "text": [
            "3\n"
          ]
        },
        {
          "output_type": "display_data",
          "data": {
            "image/png": "[encoded data removed]",
            "text/plain": [
              "<PIL.Image.Image image mode=L size=352x288 at 0x7F52E7A79410>"
            ]
          },
          "metadata": {}
        },
        {
          "output_type": "stream",
          "name": "stdout",
          "text": [
            "4\n"
          ]
        },
        {
          "output_type": "display_data",
          "data": {
            "image/png": "[encoded data removed]",
            "text/plain": [
              "<PIL.Image.Image image mode=L size=352x288 at 0x7F52F89BD690>"
            ]
          },
          "metadata": {}
        },
        {
          "output_type": "stream",
          "name": "stdout",
          "text": [
            "5\n"
          ]
        },
        {
          "output_type": "display_data",
          "data": {
            "image/png": "[encoded data removed]",
            "text/plain": [
              "<PIL.Image.Image image mode=L size=352x288 at 0x7F52E80DFE10>"
            ]
          },
          "metadata": {}
        },
        {
          "output_type": "stream",
          "name": "stdout",
          "text": [
            "6\n"
          ]
        },
        {
          "output_type": "display_data",
          "data": {
            "image/png": "[encoded data removed]",
            "text/plain": [
              "<PIL.Image.Image image mode=L size=352x288 at 0x7F52F89BD690>"
            ]
          },
          "metadata": {}
        },
        {
          "output_type": "stream",
          "name": "stdout",
          "text": [
            "7\n"
          ]
        },
        {
          "output_type": "display_data",
          "data": {
            "image/png": "[encoded data removed]",
            "text/plain": [
              "<PIL.Image.Image image mode=L size=352x288 at 0x7F52E80DFE10>"
            ]
          },
          "metadata": {}
        },
        {
          "output_type": "stream",
          "name": "stdout",
          "text": [
            "8\n"
          ]
        },
        {
          "output_type": "display_data",
          "data": {
            "image/png": "[encoded data removed]",
            "text/plain": [
              "<PIL.Image.Image image mode=L size=352x288 at 0x7F52F89BD690>"
            ]
          },
          "metadata": {}
        }
      ]
    },
    {
      "cell_type": "markdown",
      "metadata": {
        "id": "ZJ6H03AFus5a"
      },
      "source": [
        "## Parte 2 "
      ]
    },
    {
      "cell_type": "markdown",
      "metadata": {
        "id": "soIhI87_3MKZ"
      },
      "source": [
        "### Actividad 7\n"
      ]
    },
    {
      "cell_type": "code",
      "metadata": {
        "colab": {
          "base_uri": "https://localhost:8080/",
          "height": 52
        },
        "id": "tSHlt8ZQ3Upd",
        "outputId": "a5d41b07-7dbb-4afd-f38c-087692c28a07"
      },
      "source": [
        "'''\n",
        "!ffmpeg -f image2 -i /content/seq4/O_MC_01-%d.bmp -r 25 -c:v libx264 video_seq4.mp4\n",
        "!ffmpeg -f image2 -i /content/seq5/I_MC_01-%d.bmp -r 25 -c:v libx264 video_seq5.mp4\n",
        "!ffmpeg -f image2 -i /content/seq6/O_SM_12-%d.bmp -r 25 -c:v libx264 video_seq6.mp4\n",
        "'''"
      ],
      "execution_count": null,
      "outputs": [
        {
          "output_type": "execute_result",
          "data": {
            "application/vnd.google.colaboratory.intrinsic+json": {
              "type": "string"
            },
            "text/plain": [
              "'\\n!ffmpeg -f image2 -i /content/seq4/O_MC_01-%d.bmp -r 25 -c:v libx264 video_seq4.mp4\\n!ffmpeg -f image2 -i /content/seq5/I_MC_01-%d.bmp -r 25 -c:v libx264 video_seq5.mp4\\n!ffmpeg -f image2 -i /content/seq6/O_SM_12-%d.bmp -r 25 -c:v libx264 video_seq6.mp4\\n'"
            ]
          },
          "metadata": {},
          "execution_count": 36
        }
      ]
    }
  ]
}