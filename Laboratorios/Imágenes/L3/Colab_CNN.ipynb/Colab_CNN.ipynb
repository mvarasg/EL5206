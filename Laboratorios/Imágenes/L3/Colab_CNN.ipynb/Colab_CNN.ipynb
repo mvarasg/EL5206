{
 "cells": [
  {
   "cell_type": "markdown",
   "metadata": {
    "id": "xQo7vTrasm82"
   },
   "source": [
    "# Ejemplo YOLO V4\n",
    "<br>\n"
   ]
  },
  {
   "cell_type": "markdown",
   "metadata": {
    "id": "GLRJFDV7wXGK"
   },
   "source": [
    "Clonar repositorio y compilar"
   ]
  },
  {
   "cell_type": "code",
   "execution_count": 1,
   "metadata": {
    "id": "YBWGWoxZwZx9"
   },
   "outputs": [
    {
     "name": "stderr",
     "output_type": "stream",
     "text": [
      "fatal: destination path 'darknet' already exists and is not an empty directory.\n"
     ]
    }
   ],
   "source": [
    "# clone darknet repo\n",
    "!git clone https://github.com/AlexeyAB/darknet"
   ]
  },
  {
   "cell_type": "code",
   "execution_count": 2,
   "metadata": {},
   "outputs": [
    {
     "name": "stdout",
     "output_type": "stream",
     "text": [
      " El volumen de la unidad D es Disco Duro\n",
      " El n£mero de serie del volumen es: 0CA6-362B\n",
      "\n",
      " Directorio de D:\\Usuarios\\mvarasg\\Documentos\\Universidad\\EL5206 - Laboratorio de Inteligencia Computacional y Rob¢tica\\Laboratorios\\Im genes\\L3\\Colab_CNN.ipynb\n",
      "\n",
      "12-10-2022  17:11    <DIR>          .\n",
      "12-10-2022  17:11    <DIR>          ..\n",
      "12-10-2022  17:09    <DIR>          .ipynb_checkpoints\n",
      "06-10-2022  16:49             8,516 Colab_CNN.ipynb\n",
      "06-10-2022  16:48    <DIR>          darknet\n",
      "12-10-2022  17:11             5,152 DeepLearning_Tracking.ipynb\n",
      "               2 archivos         13,668 bytes\n",
      "               4 dirs  752,237,969,408 bytes libres\n"
     ]
    }
   ],
   "source": [
    "ls"
   ]
  },
  {
   "cell_type": "code",
   "execution_count": 3,
   "metadata": {
    "id": "LGcKeaoBwoXL"
   },
   "outputs": [
    {
     "name": "stdout",
     "output_type": "stream",
     "text": [
      "D:\\Usuarios\\mvarasg\\Documentos\\Universidad\\EL5206 - Laboratorio de Inteligencia Computacional y Robótica\\Laboratorios\\Imágenes\\L3\\Colab_CNN.ipynb\\darknet\n"
     ]
    }
   ],
   "source": [
    "# change makefile to have GPU and OPENCV enabled\n",
    "%cd darknet\n",
    "!sed -i 's/OPENCV=0/OPENCV=1/' Makefile\n",
    "!sed -i 's/GPU=0/GPU=1/' Makefile\n",
    "!sed -i 's/CUDNN=0/CUDNN=1/' Makefile\n",
    "!sed -i 's/CUDNN_HALF=0/CUDNN_HALF=1/' Makefile"
   ]
  },
  {
   "cell_type": "code",
   "execution_count": 4,
   "metadata": {
    "id": "WzzNYJP7wsqt"
   },
   "outputs": [
    {
     "name": "stderr",
     "output_type": "stream",
     "text": [
      "El sistema no puede encontrar la ruta especificada.\n"
     ]
    }
   ],
   "source": [
    "# verify CUDA\n",
    "!/usr/local/cuda/bin/nvcc --version"
   ]
  },
  {
   "cell_type": "code",
   "execution_count": 6,
   "metadata": {
    "id": "GNRkx9N6w0zc"
   },
   "outputs": [
    {
     "name": "stderr",
     "output_type": "stream",
     "text": [
      "\"make\" no se reconoce como un comando interno o externo,\n",
      "programa o archivo por lotes ejecutable.\n"
     ]
    }
   ],
   "source": [
    "# make darknet (builds darknet so that you can then use the darknet executable file to run or train object detectors)\n",
    "!make"
   ]
  },
  {
   "cell_type": "markdown",
   "metadata": {
    "id": "AvrW3bTl-GCl"
   },
   "source": [
    "**Descarga de pesos de la red** <br>\n",
    "YOLOv4 ha sido entrenada con la base de datos COCO, que contiene 80 clases. Se descargarán los pesos de la red pre-entrenada."
   ]
  },
  {
   "cell_type": "code",
   "execution_count": null,
   "metadata": {
    "id": "vJ4Bu_sc0cc1"
   },
   "outputs": [],
   "source": [
    "!wget https://github.com/AlexeyAB/darknet/releases/download/darknet_yolo_v3_optimal/yolov4.weights"
   ]
  },
  {
   "cell_type": "markdown",
   "metadata": {
    "id": "8wIOy_g3xT79"
   },
   "source": [
    "**Funciones auxiliares para mostrar detecciones en las imágenes procesadas**"
   ]
  },
  {
   "cell_type": "code",
   "execution_count": 6,
   "metadata": {
    "id": "2I5UX-ugxZW2"
   },
   "outputs": [],
   "source": [
    "# define helper functions\n",
    "def imShow(path):\n",
    "  import cv2\n",
    "  import matplotlib.pyplot as plt\n",
    "  %matplotlib inline\n",
    "\n",
    "  image = cv2.imread(path)\n",
    "  height, width = image.shape[:2]\n",
    "  resized_image = cv2.resize(image,(3*width, 3*height), interpolation = cv2.INTER_CUBIC)\n",
    "\n",
    "  fig = plt.gcf()\n",
    "  fig.set_size_inches(18, 10)\n",
    "  plt.axis(\"off\")\n",
    "  plt.imshow(cv2.cvtColor(resized_image, cv2.COLOR_BGR2RGB))\n",
    "  plt.show()\n",
    "\n",
    "# use this to upload files\n",
    "def upload():\n",
    "  from google.colab import files\n",
    "  uploaded = files.upload() \n",
    "  for name, data in uploaded.items():\n",
    "    with open(name, 'wb') as f:\n",
    "      f.write(data)\n",
    "      print ('saved file', name)\n",
    "\n",
    "# use this to download a file  \n",
    "def download(path):\n",
    "  from google.colab import files\n",
    "  files.download(path)"
   ]
  },
  {
   "cell_type": "markdown",
   "metadata": {
    "id": "ZyTTl4Ky-LWT"
   },
   "source": [
    "**Detección sobre una imagen de ejemplo**"
   ]
  },
  {
   "cell_type": "code",
   "execution_count": null,
   "metadata": {
    "id": "r1pPY5yL1DvM"
   },
   "outputs": [],
   "source": [
    "# run darknet detection on test images\n",
    "!./darknet detector test cfg/coco.data cfg/yolov4.cfg yolov4.weights data/eagle.jpg"
   ]
  },
  {
   "cell_type": "markdown",
   "metadata": {
    "id": "TYYia5imyRrn"
   },
   "source": [
    "**Visualización de Detecciones**"
   ]
  },
  {
   "cell_type": "code",
   "execution_count": null,
   "metadata": {
    "id": "PZ8QdtrMyX6p"
   },
   "outputs": [],
   "source": [
    "# show image using our helper function\n",
    "imShow('predictions.jpg')"
   ]
  }
 ],
 "metadata": {
  "accelerator": "GPU",
  "colab": {
   "collapsed_sections": [],
   "name": "Colab_CNN.ipynb",
   "provenance": []
  },
  "kernelspec": {
   "display_name": "Python 3 (ipykernel)",
   "language": "python",
   "name": "python3"
  },
  "language_info": {
   "codemirror_mode": {
    "name": "ipython",
    "version": 3
   },
   "file_extension": ".py",
   "mimetype": "text/x-python",
   "name": "python",
   "nbconvert_exporter": "python",
   "pygments_lexer": "ipython3",
   "version": "3.8.8"
  }
 },
 "nbformat": 4,
 "nbformat_minor": 4
}
